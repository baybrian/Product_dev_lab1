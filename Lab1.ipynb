{
 "cells": [
  {
   "cell_type": "markdown",
   "metadata": {},
   "source": [
    "# Laboratorio No. 1 - Product Development\n",
    "## Hugo Brian Bay Rojas"
   ]
  },
  {
   "cell_type": "code",
   "execution_count": 6,
   "metadata": {},
   "outputs": [],
   "source": [
    "import numpy as np\n",
    "import pandas as pd"
   ]
  },
  {
   "cell_type": "markdown",
   "metadata": {},
   "source": [
    "### Creación de la Clase"
   ]
  },
  {
   "cell_type": "code",
   "execution_count": 165,
   "metadata": {},
   "outputs": [],
   "source": [
    "class my_regression:\n",
    "    \n",
    "    # 1. Constructor principal\n",
    "    def __init__(self, x, y):\n",
    "        self.b0 = ((np.sum(x**2)*np.sum(y))-(np.sum(x)*np.sum(x*y)))/((len(x)*np.sum(x**2))-(np.power(np.sum(x),2)))\n",
    "        self.b1 = ((len(x)*np.sum(x*y))-(np.sum(x)*np.sum(y)))/((len(x)*np.sum(x**2))-np.power(np.sum(x),2))\n",
    "        self.X = np.array(x)\n",
    "        self.Y = np.array(y)\n",
    "    \n",
    "    # 2. Método para predecir sobre un valor\n",
    "    def predict(self, val):\n",
    "        y_pred = self.b0+self.b1*val\n",
    "        return y_pred\n",
    "    \n",
    "    # 3. Método para predecir sobre N valores\n",
    "    def predictN(self, vals):\n",
    "        y_preds = self.b0+self.b1*vals\n",
    "        return y_preds\n",
    "    \n",
    "    # 4. Método para calcular el r2\n",
    "    def r2(self):\n",
    "        y_hat = self.b0+self.b1*self.X\n",
    "        self.r2 = np.sum((y_hat-np.mean(self.Y))**2)/np.sum((self.Y-np.mean(self.Y))**2)\n",
    "        return self.r2\n",
    "    \n",
    "    # 5. Método para calcular el r\n",
    "    def r(self):\n",
    "        y_hat = self.b0+self.b1*self.X\n",
    "        self.r = np.sqrt(np.sum((y_hat-np.mean(self.Y))**2)/np.sum((self.Y-np.mean(self.Y))**2))\n",
    "        return self.r\n",
    "    \n",
    "    # 6. Método para obtener todos los parámetros\n",
    "    def getAllRegParams(self):\n",
    "        y_hat = self.b0+self.b1*self.X\n",
    "        self.r2 = np.sum((y_hat-np.mean(self.Y))**2)/np.sum((self.Y-np.mean(self.Y))**2)\n",
    "        self.r = np.sqrt(self.r2)\n",
    "        AllParams = {'b0': self.b0, 'b1': self.b1, 'r2': self.r2, 'r': self.r}\n",
    "        return AllParams\n",
    "    \n",
    "    # 7. Constructor para leer archivos\n",
    "    @classmethod\n",
    "    def from_file(cls, path):\n",
    "        cls.data = pd.read_csv(path)\n",
    "        return cls(np.array(cls.data.iloc[:,0]), np.array(cls.data.iloc[:,1]))"
   ]
  },
  {
   "cell_type": "markdown",
   "metadata": {},
   "source": [
    "### Pruebas con arreglos de numpy"
   ]
  },
  {
   "cell_type": "code",
   "execution_count": 153,
   "metadata": {},
   "outputs": [],
   "source": [
    "x = np.array([0, 1, 2, 3, 4])\n",
    "y = np.array([0, 0.4, 1.1, 1.4, 2.1])"
   ]
  },
  {
   "cell_type": "code",
   "execution_count": 154,
   "metadata": {},
   "outputs": [],
   "source": [
    "reg1 = my_regression(x, y)"
   ]
  },
  {
   "cell_type": "code",
   "execution_count": 155,
   "metadata": {},
   "outputs": [
    {
     "data": {
      "text/plain": [
       "(-0.04, 0.52)"
      ]
     },
     "execution_count": 155,
     "metadata": {},
     "output_type": "execute_result"
    }
   ],
   "source": [
    "reg1.b0, reg1.b1"
   ]
  },
  {
   "cell_type": "code",
   "execution_count": 156,
   "metadata": {},
   "outputs": [
    {
     "data": {
      "text/plain": [
       "2.56"
      ]
     },
     "execution_count": 156,
     "metadata": {},
     "output_type": "execute_result"
    }
   ],
   "source": [
    "reg1.predict(5)"
   ]
  },
  {
   "cell_type": "code",
   "execution_count": 157,
   "metadata": {},
   "outputs": [],
   "source": [
    "x_preds = np.array([5, 6, 7, 8])"
   ]
  },
  {
   "cell_type": "code",
   "execution_count": 158,
   "metadata": {},
   "outputs": [
    {
     "data": {
      "text/plain": [
       "array([2.56, 3.08, 3.6 , 4.12])"
      ]
     },
     "execution_count": 158,
     "metadata": {},
     "output_type": "execute_result"
    }
   ],
   "source": [
    "reg1.predictN(x_preds)"
   ]
  },
  {
   "cell_type": "code",
   "execution_count": 159,
   "metadata": {},
   "outputs": [
    {
     "data": {
      "text/plain": [
       "0.9868613138686131"
      ]
     },
     "execution_count": 159,
     "metadata": {},
     "output_type": "execute_result"
    }
   ],
   "source": [
    "reg1.r2()"
   ]
  },
  {
   "cell_type": "code",
   "execution_count": 160,
   "metadata": {},
   "outputs": [
    {
     "data": {
      "text/plain": [
       "0.9934089358711311"
      ]
     },
     "execution_count": 160,
     "metadata": {},
     "output_type": "execute_result"
    }
   ],
   "source": [
    "reg1.r()"
   ]
  },
  {
   "cell_type": "code",
   "execution_count": 161,
   "metadata": {},
   "outputs": [
    {
     "data": {
      "text/plain": [
       "{'b0': -0.04, 'b1': 0.52, 'r2': 0.9868613138686131, 'r': 0.9934089358711311}"
      ]
     },
     "execution_count": 161,
     "metadata": {},
     "output_type": "execute_result"
    }
   ],
   "source": [
    "reg1.getAllRegParams()"
   ]
  },
  {
   "cell_type": "markdown",
   "metadata": {},
   "source": [
    "### Pruebas con archivo csv"
   ]
  },
  {
   "cell_type": "code",
   "execution_count": 172,
   "metadata": {},
   "outputs": [],
   "source": [
    "reg2 = my_regression.from_file('regresion.csv')"
   ]
  },
  {
   "cell_type": "code",
   "execution_count": 173,
   "metadata": {},
   "outputs": [
    {
     "data": {
      "text/plain": [
       "(0.08, 0.5)"
      ]
     },
     "execution_count": 173,
     "metadata": {},
     "output_type": "execute_result"
    }
   ],
   "source": [
    "reg2.b0, reg2.b1"
   ]
  },
  {
   "cell_type": "code",
   "execution_count": 174,
   "metadata": {},
   "outputs": [
    {
     "data": {
      "text/plain": [
       "2.58"
      ]
     },
     "execution_count": 174,
     "metadata": {},
     "output_type": "execute_result"
    }
   ],
   "source": [
    "reg2.predict(5)"
   ]
  },
  {
   "cell_type": "code",
   "execution_count": 178,
   "metadata": {},
   "outputs": [
    {
     "data": {
      "text/plain": [
       "array([2.58, 3.08, 3.58, 4.08])"
      ]
     },
     "execution_count": 178,
     "metadata": {},
     "output_type": "execute_result"
    }
   ],
   "source": [
    "reg2.predictN(x_preds)"
   ]
  },
  {
   "cell_type": "code",
   "execution_count": 175,
   "metadata": {},
   "outputs": [
    {
     "data": {
      "text/plain": [
       "0.9659969088098918"
      ]
     },
     "execution_count": 175,
     "metadata": {},
     "output_type": "execute_result"
    }
   ],
   "source": [
    "reg2.r2()"
   ]
  },
  {
   "cell_type": "code",
   "execution_count": 176,
   "metadata": {},
   "outputs": [
    {
     "data": {
      "text/plain": [
       "0.9828514174634393"
      ]
     },
     "execution_count": 176,
     "metadata": {},
     "output_type": "execute_result"
    }
   ],
   "source": [
    "reg2.r()"
   ]
  },
  {
   "cell_type": "code",
   "execution_count": 177,
   "metadata": {},
   "outputs": [
    {
     "data": {
      "text/plain": [
       "{'b0': 0.08, 'b1': 0.5, 'r2': 0.9659969088098918, 'r': 0.9828514174634393}"
      ]
     },
     "execution_count": 177,
     "metadata": {},
     "output_type": "execute_result"
    }
   ],
   "source": [
    "reg2.getAllRegParams()"
   ]
  },
  {
   "cell_type": "code",
   "execution_count": null,
   "metadata": {},
   "outputs": [],
   "source": []
  }
 ],
 "metadata": {
  "kernelspec": {
   "display_name": "Python 3",
   "language": "python",
   "name": "python3"
  },
  "language_info": {
   "codemirror_mode": {
    "name": "ipython",
    "version": 3
   },
   "file_extension": ".py",
   "mimetype": "text/x-python",
   "name": "python",
   "nbconvert_exporter": "python",
   "pygments_lexer": "ipython3",
   "version": "3.8.5"
  }
 },
 "nbformat": 4,
 "nbformat_minor": 4
}
